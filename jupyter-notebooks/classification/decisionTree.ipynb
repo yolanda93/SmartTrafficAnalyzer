{
 "cells": [
  {
   "cell_type": "code",
   "execution_count": 56,
   "metadata": {},
   "outputs": [
    {
     "name": "stdout",
     "output_type": "stream",
     "text": [
      "-------------> Original Dataset -- Features: 132 Traffic Flows: 147944\n",
      "        #c_ip:1  c_port:2  c_pkts_all:3  c_rst_cnt:4  c_ack_cnt:5  \\\n",
      "0  172.16.1.172     41342            12            0           11   \n",
      "1  172.16.1.175     49845            42            0           41   \n",
      "2  172.16.1.175     52472             7            0            6   \n",
      "3  172.16.1.175     48903            16            0           15   \n",
      "4  172.16.1.175     40561            30            0           29   \n",
      "\n",
      "   c_ack_cnt_p:6  c_bytes_uniq:7  c_pkts_data:8  c_bytes_all:9  \\\n",
      "0              6            2409              4           2409   \n",
      "1             38             637              2            637   \n",
      "2              3             299              1            299   \n",
      "3             13             335              1            335   \n",
      "4             25             790              3            790   \n",
      "\n",
      "   c_pkts_retx:10   ...     c_appdataT:123  s_appdataT:124  c_appdataB:125  \\\n",
      "0               0   ...            463.939         729.909             312   \n",
      "1               0   ...              0.000           0.000               0   \n",
      "2               1   ...              0.000           0.000               0   \n",
      "3               0   ...              0.000           0.000               0   \n",
      "4               0   ...           1497.929        1606.682             370   \n",
      "\n",
      "   s_appdataB:126 fqdn:127  dns_rslv:128  req_tm:129  res_tm:130  \\\n",
      "0            3100        -             -         0.0         0.0   \n",
      "1               0        -             -         0.0         0.0   \n",
      "2               0        -             -         0.0         0.0   \n",
      "3               0        -             -         0.0         0.0   \n",
      "4            3972        -             -         0.0         0.0   \n",
      "\n",
      "   http_hostname:131  tag:132  \n",
      "0                  -        1  \n",
      "1   www.leprogres.fr        1  \n",
      "2          nxtck.com        1  \n",
      "3  files.prsmedia.fr        1  \n",
      "4                  -        1  \n",
      "\n",
      "[5 rows x 132 columns]\n",
      "-------------> Filtered Dataset -- Features: 3 Traffic Flows: 147944\n",
      "   c_cwin_ini:78  tag:132  is_vpn\n",
      "0            185        1   False\n",
      "1            309        1   False\n",
      "2            299        1   False\n",
      "3            335        1   False\n",
      "4            235        1   False\n",
      "       c_cwin_ini:78        tag:132\n",
      "count  147944.000000  147944.000000\n",
      "mean      283.740645       1.132334\n",
      "std       252.450806       0.401419\n",
      "min         0.000000       1.000000\n",
      "25%       227.000000       1.000000\n",
      "50%       235.000000       1.000000\n",
      "75%       314.000000       1.000000\n",
      "max     14489.000000       3.000000\n"
     ]
    }
   ],
   "source": [
    "import numpy as np\n",
    "import matplotlib.pyplot as plt\n",
    "import pandas as pd\n",
    "from sklearn.tree import DecisionTreeClassifier\n",
    "\n",
    "tcp_complete = pd.read_csv(\"../data/captura_prueba_MULTIPLESVPN_20180205_12h/tagger_results/tcp_complete_tagged_ok\", delimiter=r\"\\s+\",low_memory=False)\n",
    "\n",
    "print(\"-------------> Original Dataset -- Features: \" + str(len(tcp_complete.columns))+ \" Traffic Flows: \" + str(len(tcp_complete.index)))\n",
    "print(tcp_complete.head())\n",
    "\n",
    "# Mark vpn flows\n",
    "vpn_ip = ['138.100.156.254','138.100.156.244','138.100.156.253']\n",
    "tcp_complete['is_vpn'] = tcp_complete['s_ip:15'].isin(vpn_ip)\n",
    "\n",
    "# Filter bad features\n",
    "bad_features = [1, 2, 12, 15, 16, 18, 29, 30, 38, 39, 40, 41, 43, 50, 51, 57, 58, 59, 60, 61, 62, 63, 64, 65, 66, 67, 68, 69, 70, 74, 75, 80, 81, 82, 84, 86, 87, 88, 89, 90, 91, 92, 97, 98, 102, 103, 104, 105, 107, 108, 109, 110, 111, 112, 113, 114, 115, 116, 117, 118, 119, 120, 121, 122, 123, 124, 125, 126, 127, 128, 129, 130, 131]\n",
    "bad_features = [index - 1 for index in bad_features]\n",
    "tcp_complete = tcp_complete.drop(tcp_complete.columns[bad_features], axis =1)\n",
    "\n",
    "\n",
    "print(\"-------------> Filtered Dataset -- Features: \" + str(len(tcp_complete.columns))+ \" Traffic Flows: \" + str(len(tcp_complete.index)))\n",
    "print(tcp_complete.head())\n",
    "\n",
    "print(tcp_complete.describe())\n"
   ]
  },
  {
   "cell_type": "code",
   "execution_count": 57,
   "metadata": {},
   "outputs": [
    {
     "name": "stdout",
     "output_type": "stream",
     "text": [
      "Number of observations in the training data: 110970\n",
      "Number of observations in the test data: 36974\n"
     ]
    }
   ],
   "source": [
    "# Create training and test data\n",
    "tcp_complete['is_train'] = np.random.uniform(0, 1, len(tcp_complete)) <= .75\n",
    "train, test = tcp_complete[tcp_complete['is_train']==True], tcp_complete[tcp_complete['is_train']==False]\n",
    "# Show the number of observations for the test and training dataframes\n",
    "print('Number of observations in the training data:', len(train))\n",
    "print('Number of observations in the test data:',len(test))"
   ]
  },
  {
   "cell_type": "code",
   "execution_count": 58,
   "metadata": {},
   "outputs": [
    {
     "name": "stdout",
     "output_type": "stream",
     "text": [
      "Index(['c_cwin_ini:78'], dtype='object')\n"
     ]
    },
    {
     "data": {
      "text/plain": [
       "1"
      ]
     },
     "execution_count": 58,
     "metadata": {},
     "output_type": "execute_result"
    }
   ],
   "source": [
    "# Create a list of the feature column's names\n",
    "features = tcp_complete.columns[:-3] # remove the tag from the features used to train\n",
    "\n",
    "# View features\n",
    "print(features)\n",
    "len(features)"
   ]
  },
  {
   "cell_type": "code",
   "execution_count": 59,
   "metadata": {},
   "outputs": [],
   "source": [
    "from sklearn.tree import DecisionTreeClassifier\n",
    "clf = DecisionTreeClassifier(criterion = \"gini\", random_state = 100,\n",
    "                               max_depth=3, min_samples_leaf=5)\n",
    "clf.fit(train[features], train['tag:132'])\n",
    "\n",
    "from sklearn.tree import export_graphviz\n",
    "from sklearn.externals.six import StringIO  \n",
    "from IPython.display import Image  \n",
    "import pydotplus\n",
    "\n",
    "with open(\"dt.dot\", 'w') as f:\n",
    "    export_graphviz(clf, out_file=f,\n",
    "                        feature_names=features)\n",
    "\n",
    "    command = [\"dot\", \"-Tpng\", \"dt.dot\", \"-o\", \"dt.png\"]\n",
    "    try:\n",
    "        subprocess.check_call(command)\n",
    "    except:\n",
    "        exit(\"Could not run dot, ie graphviz, to \"\n",
    "             \"produce visualization\")\n",
    "\n"
   ]
  },
  {
   "cell_type": "code",
   "execution_count": 60,
   "metadata": {},
   "outputs": [
    {
     "name": "stdout",
     "output_type": "stream",
     "text": [
      "[1 1 1 ... 1 1 1]\n"
     ]
    }
   ],
   "source": [
    "# Apply the Classifier we trained to the test data (which, remember, it has never seen before)\n",
    "preds = clf.predict(test[features])\n",
    "print(preds)"
   ]
  },
  {
   "cell_type": "code",
   "execution_count": 61,
   "metadata": {},
   "outputs": [
    {
     "data": {
      "text/plain": [
       "array([[9.89800899e-01, 6.67951188e-04, 9.53114965e-03],\n",
       "       [9.89800899e-01, 6.67951188e-04, 9.53114965e-03],\n",
       "       [9.89800899e-01, 6.67951188e-04, 9.53114965e-03],\n",
       "       [9.89800899e-01, 6.67951188e-04, 9.53114965e-03],\n",
       "       [9.89800899e-01, 6.67951188e-04, 9.53114965e-03],\n",
       "       [9.89800899e-01, 6.67951188e-04, 9.53114965e-03],\n",
       "       [9.89800899e-01, 6.67951188e-04, 9.53114965e-03],\n",
       "       [9.89800899e-01, 6.67951188e-04, 9.53114965e-03],\n",
       "       [9.93902439e-01, 2.40693196e-03, 3.69062901e-03],\n",
       "       [3.61298780e-01, 6.32852677e-01, 5.84854291e-03]])"
      ]
     },
     "execution_count": 61,
     "metadata": {},
     "output_type": "execute_result"
    }
   ],
   "source": [
    "# View the predicted probabilities of the first 10 observations\n",
    "clf.predict_proba(test[features])[0:10]"
   ]
  },
  {
   "cell_type": "code",
   "execution_count": 62,
   "metadata": {},
   "outputs": [
    {
     "data": {
      "text/html": [
       "<div>\n",
       "<style scoped>\n",
       "    .dataframe tbody tr th:only-of-type {\n",
       "        vertical-align: middle;\n",
       "    }\n",
       "\n",
       "    .dataframe tbody tr th {\n",
       "        vertical-align: top;\n",
       "    }\n",
       "\n",
       "    .dataframe thead th {\n",
       "        text-align: right;\n",
       "    }\n",
       "</style>\n",
       "<table border=\"1\" class=\"dataframe\">\n",
       "  <thead>\n",
       "    <tr style=\"text-align: right;\">\n",
       "      <th>Predicted tags</th>\n",
       "      <th>1</th>\n",
       "      <th>2</th>\n",
       "    </tr>\n",
       "    <tr>\n",
       "      <th>Actual Tags</th>\n",
       "      <th></th>\n",
       "      <th></th>\n",
       "    </tr>\n",
       "  </thead>\n",
       "  <tbody>\n",
       "    <tr>\n",
       "      <th>1</th>\n",
       "      <td>31687</td>\n",
       "      <td>1153</td>\n",
       "    </tr>\n",
       "    <tr>\n",
       "      <th>2</th>\n",
       "      <td>314</td>\n",
       "      <td>2964</td>\n",
       "    </tr>\n",
       "    <tr>\n",
       "      <th>3</th>\n",
       "      <td>848</td>\n",
       "      <td>8</td>\n",
       "    </tr>\n",
       "  </tbody>\n",
       "</table>\n",
       "</div>"
      ],
      "text/plain": [
       "Predicted tags      1     2\n",
       "Actual Tags                \n",
       "1               31687  1153\n",
       "2                 314  2964\n",
       "3                 848     8"
      ]
     },
     "execution_count": 62,
     "metadata": {},
     "output_type": "execute_result"
    }
   ],
   "source": [
    "# Create confusion matrix\n",
    "pd.crosstab(test['tag:132'], preds, rownames=['Actual Tags'], colnames=['Predicted tags'])"
   ]
  },
  {
   "cell_type": "code",
   "execution_count": 63,
   "metadata": {},
   "outputs": [
    {
     "name": "stdout",
     "output_type": "stream",
     "text": [
      "Mean accuracy score: 0.937172067\n"
     ]
    }
   ],
   "source": [
    "from sklearn.metrics import accuracy_score\n",
    "accuracy = accuracy_score(test['tag:132'], preds)\n",
    "\n",
    "print(f'Mean accuracy score: {accuracy:.9}')"
   ]
  },
  {
   "cell_type": "code",
   "execution_count": 64,
   "metadata": {},
   "outputs": [
    {
     "data": {
      "text/plain": [
       "[('c_cwin_ini:78', 1.0)]"
      ]
     },
     "execution_count": 64,
     "metadata": {},
     "output_type": "execute_result"
    }
   ],
   "source": [
    "# View a list of the features and their importance scores\n",
    "sorted(list(zip(train[features], clf.feature_importances_)), key=lambda x: x[1], reverse=True)"
   ]
  },
  {
   "cell_type": "code",
   "execution_count": 65,
   "metadata": {},
   "outputs": [
    {
     "name": "stdout",
     "output_type": "stream",
     "text": [
      "Mean accuracy VPN score: 0.0\n",
      "Mean accuracy no VPN score: 0.9372227632\n"
     ]
    }
   ],
   "source": [
    "# View a list of the features and their importance scores\n",
    "test_vpn, test_novpn = test[test['is_vpn']==True], test[test['is_vpn']==False]\n",
    "\n",
    "from sklearn.metrics import accuracy_score\n",
    "accuracy_vpn = accuracy_score(test_vpn['tag:132'], preds[test['is_vpn']==True])\n",
    "accuracy_novpn = accuracy_score(test_novpn['tag:132'], preds[test['is_vpn']==False])\n",
    "\n",
    "print(f'Mean accuracy VPN score: {accuracy_vpn:.10}')\n",
    "print(f'Mean accuracy no VPN score: {accuracy_novpn:.10}')"
   ]
  },
  {
   "cell_type": "code",
   "execution_count": null,
   "metadata": {},
   "outputs": [],
   "source": []
  }
 ],
 "metadata": {
  "kernelspec": {
   "display_name": "Python 3",
   "language": "python",
   "name": "python3"
  },
  "language_info": {
   "codemirror_mode": {
    "name": "ipython",
    "version": 3
   },
   "file_extension": ".py",
   "mimetype": "text/x-python",
   "name": "python",
   "nbconvert_exporter": "python",
   "pygments_lexer": "ipython3",
   "version": "3.6.3"
  }
 },
 "nbformat": 4,
 "nbformat_minor": 1
}
