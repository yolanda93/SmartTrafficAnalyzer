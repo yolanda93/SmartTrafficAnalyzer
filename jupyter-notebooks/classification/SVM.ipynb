{
 "cells": [
  {
   "cell_type": "code",
   "execution_count": 1,
   "metadata": {},
   "outputs": [
    {
     "name": "stdout",
     "output_type": "stream",
     "text": [
      "-------------> Original Dataset -- Features: 132 Traffic Flows: 633299\n",
      "        #c_ip:1  c_port:2  c_pkts_all:3  c_rst_cnt:4  c_ack_cnt:5  \\\n",
      "0  172.16.1.196     36774             1            0            0   \n",
      "1  172.16.1.196     36774             1            0            0   \n",
      "2  172.16.1.196     36774             2            0            1   \n",
      "3  172.16.1.196     36774             3            0            2   \n",
      "4  172.16.1.169     40624             1            0            0   \n",
      "\n",
      "   c_ack_cnt_p:6  c_bytes_uniq:7  c_pkts_data:8  c_bytes_all:9  \\\n",
      "0              0               0              0              0   \n",
      "1              0               0              0              0   \n",
      "2              1               0              0              0   \n",
      "3              1             178              1            178   \n",
      "4              0               0              0              0   \n",
      "\n",
      "   c_pkts_retx:10   ...     c_appdataT:123  s_appdataT:124  c_appdataB:125  \\\n",
      "0               0   ...                0.0             0.0               0   \n",
      "1               0   ...                0.0             0.0               0   \n",
      "2               0   ...                0.0             0.0               0   \n",
      "3               0   ...                0.0             0.0               0   \n",
      "4               0   ...                0.0             0.0               0   \n",
      "\n",
      "   s_appdataB:126 fqdn:127  dns_rslv:128  req_tm:129  res_tm:130  \\\n",
      "0               0        -             -         0.0         0.0   \n",
      "1               0        -             -         0.0         0.0   \n",
      "2               0        -             -         0.0         0.0   \n",
      "3               0        -             -         0.0         0.0   \n",
      "4               0        -             -         0.0         0.0   \n",
      "\n",
      "   http_hostname:131  tag:132  \n",
      "0                  -        3  \n",
      "1                  -        3  \n",
      "2                  -        3  \n",
      "3                  -        3  \n",
      "4                  -        1  \n",
      "\n",
      "[5 rows x 132 columns]\n",
      "-------------> Filtered Dataset -- Features: 60 Traffic Flows: 633299\n",
      "   c_pkts_all:3  c_rst_cnt:4  c_ack_cnt:5  c_ack_cnt_p:6  c_bytes_uniq:7  \\\n",
      "0             1            0            0              0               0   \n",
      "1             1            0            0              0               0   \n",
      "2             2            0            1              1               0   \n",
      "3             3            0            2              1             178   \n",
      "4             1            0            0              0               0   \n",
      "\n",
      "   c_pkts_data:8  c_bytes_all:9  c_pkts_retx:10  c_bytes_retx:11  \\\n",
      "0              0              0               0                0   \n",
      "1              0              0               0                0   \n",
      "2              0              0               0                0   \n",
      "3              1            178               0                0   \n",
      "4              0              0               0                0   \n",
      "\n",
      "   c_syn_cnt:13   ...    s_mss:93  s_mss_max:94  s_mss_min:95  s_win_max:96  \\\n",
      "0             1   ...           0             0             0             0   \n",
      "1             1   ...        1440             0             0         28560   \n",
      "2             1   ...        1440             0             0         28560   \n",
      "3             1   ...        1440             0             0         28560   \n",
      "4             1   ...           0             0             0             0   \n",
      "\n",
      "   s_cwin_max:99  s_cwin_min:100  s_cwin_ini:101  s_pkts_unk:106  tag:132  \\\n",
      "0              0               0               0               0        3   \n",
      "1              0               0               0               0        3   \n",
      "2              0               0               0               0        3   \n",
      "3              0               0               0               0        3   \n",
      "4              0               0               0               0        1   \n",
      "\n",
      "   is_vpn  \n",
      "0   False  \n",
      "1   False  \n",
      "2   False  \n",
      "3   False  \n",
      "4   False  \n",
      "\n",
      "[5 rows x 60 columns]\n",
      "        c_pkts_all:3  c_rst_cnt:4    c_ack_cnt:5  c_ack_cnt_p:6  \\\n",
      "count  633299.000000     633299.0  633299.000000  633299.000000   \n",
      "mean        2.267641          0.0       0.676516       0.431482   \n",
      "std         1.075973          0.0       0.882720       0.516954   \n",
      "min         1.000000          0.0       0.000000       0.000000   \n",
      "25%         1.000000          0.0       0.000000       0.000000   \n",
      "50%         2.000000          0.0       0.000000       0.000000   \n",
      "75%         3.000000          0.0       1.000000       1.000000   \n",
      "max         5.000000          0.0       3.000000       3.000000   \n",
      "\n",
      "       c_bytes_uniq:7  c_pkts_data:8  c_bytes_all:9  c_pkts_retx:10  \\\n",
      "count   633299.000000   633299.00000  633299.000000   633299.000000   \n",
      "mean        56.668646        0.22988      63.072160        0.614954   \n",
      "std        131.749746        0.47213     152.369361        0.940955   \n",
      "min          0.000000        0.00000       0.000000        0.000000   \n",
      "25%          0.000000        0.00000       0.000000        0.000000   \n",
      "50%          0.000000        0.00000       0.000000        0.000000   \n",
      "75%          0.000000        0.00000       0.000000        1.000000   \n",
      "max       3637.000000        2.00000    3637.000000        4.000000   \n",
      "\n",
      "       c_bytes_retx:11   c_syn_cnt:13      ...        c_pkts_unrto:85  \\\n",
      "count    633299.000000  633299.000000      ...          633299.000000   \n",
      "mean          6.403514       1.591125      ...               0.000005   \n",
      "std          46.514925       0.943544      ...               0.002176   \n",
      "min           0.000000       1.000000      ...               0.000000   \n",
      "25%           0.000000       1.000000      ...               0.000000   \n",
      "50%           0.000000       1.000000      ...               0.000000   \n",
      "75%           0.000000       2.000000      ...               0.000000   \n",
      "max        1439.000000       5.000000      ...               1.000000   \n",
      "\n",
      "            s_mss:93   s_mss_max:94   s_mss_min:95  s_win_max:96  \\\n",
      "count  633299.000000  633299.000000  633299.000000  6.332990e+05   \n",
      "mean      851.277076       1.049667       1.042738  4.156882e+05   \n",
      "std       697.366579      30.041802      29.833870  2.571582e+06   \n",
      "min         0.000000       0.000000       0.000000  0.000000e+00   \n",
      "25%         0.000000       0.000000       0.000000  0.000000e+00   \n",
      "50%      1380.000000       0.000000       0.000000  7.240000e+03   \n",
      "75%      1452.000000       0.000000       0.000000  3.008000e+04   \n",
      "max      1460.000000    1452.000000    1452.000000  2.684314e+08   \n",
      "\n",
      "       s_cwin_max:99  s_cwin_min:100  s_cwin_ini:101  s_pkts_unk:106  \\\n",
      "count   6.332990e+05    6.332990e+05   633299.000000   633299.000000   \n",
      "mean    4.256268e+05    4.018749e+05        1.066108        0.010008   \n",
      "std     2.425452e+07    2.363824e+07       31.628911        0.099538   \n",
      "min     0.000000e+00    0.000000e+00        0.000000        0.000000   \n",
      "25%     0.000000e+00    0.000000e+00        0.000000        0.000000   \n",
      "50%     0.000000e+00    0.000000e+00        0.000000        0.000000   \n",
      "75%     0.000000e+00    0.000000e+00        0.000000        0.000000   \n",
      "max     2.139189e+09    2.139189e+09     2880.000000        1.000000   \n",
      "\n",
      "             tag:132  \n",
      "count  633299.000000  \n",
      "mean        1.161218  \n",
      "std         0.762116  \n",
      "min         0.000000  \n",
      "25%         1.000000  \n",
      "50%         1.000000  \n",
      "75%         1.000000  \n",
      "max         3.000000  \n",
      "\n",
      "[8 rows x 59 columns]\n"
     ]
    }
   ],
   "source": [
    "import numpy as np\n",
    "import matplotlib.pyplot as plt\n",
    "import pandas as pd\n",
    "from sklearn.ensemble import RandomForestClassifier\n",
    "\n",
    "# Load dataset as a data frame\n",
    "tcp_complete = pd.read_csv(\"/home/yolanda/workspace/actual/pkts_test/dataset1_5pkts\", delimiter=r\"\\s+\",low_memory=False)\n",
    "tcp_complete2 = pd.read_csv(\"/home/yolanda/workspace/actual/pkts_test/dataset2_5pkts\", delimiter=r\"\\s+\",low_memory=False)\n",
    "\n",
    "print(\"-------------> Original Dataset -- Features: \" + str(len(tcp_complete.columns))+ \" Traffic Flows: \" + str(len(tcp_complete.index)))\n",
    "print(tcp_complete.head())\n",
    "\n",
    "# Mark vpn flows\n",
    "vpn_ip = ['138.100.156.254','138.100.156.244','138.100.156.253']\n",
    "tcp_complete['is_vpn'] = tcp_complete['s_ip:15'].isin(vpn_ip)\n",
    "tcp_complete2['is_vpn'] = tcp_complete2['s_ip:15'].isin(vpn_ip)\n",
    "\n",
    "# Filter bad features\n",
    "bad_features = [1, 2, 12, 15, 16, 18, 29, 30, 38, 39, 40, 41, 43, 50, 51, 57, 58, 59, 60, 61, 62, 63, 64, 65, 66, 67, 68, 69, 70, 74, 75, 80, 81, 82, 84, 86, 87, 88, 89, 90, 91, 92, 97, 98, 102, 103, 104, 105, 107, 108, 109, 110, 111, 112, 113, 114, 115, 116, 117, 118, 119, 120, 121, 122, 123, 124, 125, 126, 127, 128, 129, 130, 131]\n",
    "bad_features = [index - 1 for index in bad_features]\n",
    "\n",
    "tcp_complete = tcp_complete.drop(tcp_complete.columns[bad_features], axis =1)\n",
    "tcp_complete2 = tcp_complete2.drop(tcp_complete2.columns[bad_features], axis =1)\n",
    "\n",
    "print(\"-------------> Filtered Dataset -- Features: \" + str(len(tcp_complete.columns))+ \" Traffic Flows: \" + str(len(tcp_complete.index)))\n",
    "print(tcp_complete.head())\n",
    "\n",
    "# Get basic statistics\n",
    "print(tcp_complete.describe())"
   ]
  },
  {
   "cell_type": "code",
   "execution_count": 2,
   "metadata": {},
   "outputs": [
    {
     "name": "stdout",
     "output_type": "stream",
     "text": [
      "Number of observations in the training data: 633299\n",
      "Number of observations in the test data: 611116\n"
     ]
    }
   ],
   "source": [
    "# Create training and test data\n",
    "if 'tcp_complete2' not in globals(): # divide the dataset; 75% training \n",
    "    tcp_complete['is_train'] = np.random.uniform(0, 1, len(tcp_complete)) <= .75\n",
    "    train, test = tcp_complete[tcp_complete['is_train']==True], tcp_complete[tcp_complete['is_train']==False]\n",
    "else: # use different captures for training and testing\n",
    "    train =  tcp_complete\n",
    "    test = tcp_complete2\n",
    "    \n",
    "# Show the number of observations for the test and training dataframes\n",
    "print('Number of observations in the training data:', len(train))\n",
    "print('Number of observations in the test data:',len(test))"
   ]
  },
  {
   "cell_type": "code",
   "execution_count": 3,
   "metadata": {},
   "outputs": [
    {
     "name": "stdout",
     "output_type": "stream",
     "text": [
      "Index(['c_pkts_all:3', 'c_rst_cnt:4', 'c_ack_cnt:5', 'c_ack_cnt_p:6',\n",
      "       'c_bytes_uniq:7', 'c_pkts_data:8', 'c_bytes_all:9', 'c_pkts_retx:10',\n",
      "       'c_bytes_retx:11', 'c_syn_cnt:13', 'c_fin_cnt:14', 's_pkts_all:17',\n",
      "       's_ack_cnt:19', 's_ack_cnt_p:20', 's_bytes_uniq:21', 's_pkts_data:22',\n",
      "       's_bytes_all:23', 's_pkts_retx:24', 's_bytes_retx:25', 's_pkts_ooo:26',\n",
      "       's_syn_cnt:27', 's_fin_cnt:28', 'durat:31', 'c_first:32', 's_first:33',\n",
      "       'c_last:34', 's_last:35', 'c_first_ack:36', 's_first_ack:37',\n",
      "       'con_t:42', 'http_t:44', 'c_rtt_avg:45', 'c_rtt_min:46', 'c_rtt_max:47',\n",
      "       'c_rtt_std:48', 'c_rtt_cnt:49', 's_rtt_avg:52', 's_rtt_min:53',\n",
      "       's_rtt_max:54', 's_rtt_std:55', 's_rtt_cnt:56', 'c_mss_max:71',\n",
      "       'c_mss_min:72', 'c_win_max:73', 'c_cwin_max:76', 'c_cwin_min:77',\n",
      "       'c_cwin_ini:78', 'c_pkts_rto:79', 'c_pkts_unk:83', 'c_pkts_unrto:85',\n",
      "       's_mss:93', 's_mss_max:94', 's_mss_min:95', 's_win_max:96',\n",
      "       's_cwin_max:99', 's_cwin_min:100', 's_cwin_ini:101'],\n",
      "      dtype='object')\n"
     ]
    },
    {
     "data": {
      "text/plain": [
       "57"
      ]
     },
     "execution_count": 3,
     "metadata": {},
     "output_type": "execute_result"
    }
   ],
   "source": [
    "# Create a list of the feature column's names\n",
    "features = tcp_complete.columns[:-3] # remove the tag from the features used to train\n",
    "\n",
    "# View features\n",
    "print(features)\n",
    "len(features)"
   ]
  },
  {
   "cell_type": "code",
   "execution_count": null,
   "metadata": {},
   "outputs": [],
   "source": [
    "from sklearn.feature_extraction.text import CountVectorizer\n",
    "from sklearn import svm\n",
    "import matplotlib.pyplot as plt\n",
    "\n",
    "#C = 0.3  # SVM regularization parameter\n",
    "#poly_svc = svm.SVC(kernel='poly', degree=3, C=C).fit(train[features], train['tag:132'])\n",
    "\n",
    "#rbf_svc = svm.SVC(kernel='rbf', gamma=0.3, C=C)\n",
    "#rbf_svc.fit(train[features], train['tag:132'])\n",
    "C = 1.0  # SVM regularization parameter\n",
    "svm = svm.SVC(kernel='linear', C=C).fit(train[features], train['tag:132'])\n",
    "\n",
    "#plot_coefficients(svm, features)\n",
    "\n",
    "# Train The Random Forest Classifier\n",
    "#clf = RandomForestClassifier(n_jobs=4, n_estimators=100,random_state=0)\n",
    "# Train the Classifier to take the training features and learn how they relate\n",
    "# to the training the tags\n",
    "#clf.fit(train[features], train['tag:132'])"
   ]
  },
  {
   "cell_type": "code",
   "execution_count": 10,
   "metadata": {},
   "outputs": [
    {
     "name": "stdout",
     "output_type": "stream",
     "text": [
      "[2 2 2 ... 2 2 2]\n"
     ]
    }
   ],
   "source": [
    "# Apply the Classifier to the test data \n",
    "preds = svm.predict(test[features])\n",
    "print(preds)"
   ]
  },
  {
   "cell_type": "code",
   "execution_count": 11,
   "metadata": {},
   "outputs": [
    {
     "data": {
      "text/html": [
       "<div>\n",
       "<style scoped>\n",
       "    .dataframe tbody tr th:only-of-type {\n",
       "        vertical-align: middle;\n",
       "    }\n",
       "\n",
       "    .dataframe tbody tr th {\n",
       "        vertical-align: top;\n",
       "    }\n",
       "\n",
       "    .dataframe thead th {\n",
       "        text-align: right;\n",
       "    }\n",
       "</style>\n",
       "<table border=\"1\" class=\"dataframe\">\n",
       "  <thead>\n",
       "    <tr style=\"text-align: right;\">\n",
       "      <th>Predicted tags</th>\n",
       "      <th>0</th>\n",
       "      <th>1</th>\n",
       "      <th>2</th>\n",
       "      <th>3</th>\n",
       "    </tr>\n",
       "    <tr>\n",
       "      <th>Actual Tags</th>\n",
       "      <th></th>\n",
       "      <th></th>\n",
       "      <th></th>\n",
       "      <th></th>\n",
       "    </tr>\n",
       "  </thead>\n",
       "  <tbody>\n",
       "    <tr>\n",
       "      <th>0</th>\n",
       "      <td>80387</td>\n",
       "      <td>7</td>\n",
       "      <td>17</td>\n",
       "      <td>1</td>\n",
       "    </tr>\n",
       "    <tr>\n",
       "      <th>1</th>\n",
       "      <td>606</td>\n",
       "      <td>26486</td>\n",
       "      <td>383416</td>\n",
       "      <td>29</td>\n",
       "    </tr>\n",
       "    <tr>\n",
       "      <th>2</th>\n",
       "      <td>3</td>\n",
       "      <td>3228</td>\n",
       "      <td>62938</td>\n",
       "      <td>0</td>\n",
       "    </tr>\n",
       "    <tr>\n",
       "      <th>3</th>\n",
       "      <td>22</td>\n",
       "      <td>269</td>\n",
       "      <td>53701</td>\n",
       "      <td>6</td>\n",
       "    </tr>\n",
       "  </tbody>\n",
       "</table>\n",
       "</div>"
      ],
      "text/plain": [
       "Predicted tags      0      1       2   3\n",
       "Actual Tags                             \n",
       "0               80387      7      17   1\n",
       "1                 606  26486  383416  29\n",
       "2                   3   3228   62938   0\n",
       "3                  22    269   53701   6"
      ]
     },
     "execution_count": 11,
     "metadata": {},
     "output_type": "execute_result"
    }
   ],
   "source": [
    "# Create confusion matrix\n",
    "pd.crosstab(test['tag:132'], preds, rownames=['Actual Tags'], colnames=['Predicted tags'])"
   ]
  },
  {
   "cell_type": "code",
   "execution_count": 12,
   "metadata": {},
   "outputs": [
    {
     "name": "stdout",
     "output_type": "stream",
     "text": [
      "\t Mean accuracy score: 0.277880\n",
      "\t Mean Precision score: 0.277880\n",
      "\t Mean Recall score: 0.278\n",
      "\t Mean F1 score: 0.278\n",
      "\n"
     ]
    }
   ],
   "source": [
    "from sklearn.metrics import *\n",
    "\n",
    "print(\"\\t Mean accuracy score: %1.6f\" % accuracy_score(test['tag:132'], preds))\n",
    "print(\"\\t Mean Precision score: %1.6f\" % precision_score(test['tag:132'], preds,average='micro'))\n",
    "print(\"\\t Mean Recall score: %1.3f\" % recall_score(test['tag:132'], preds,average='micro'))\n",
    "print(\"\\t Mean F1 score: %1.3f\\n\" % f1_score(test['tag:132'], preds,average='micro'))"
   ]
  },
  {
   "cell_type": "code",
   "execution_count": 19,
   "metadata": {},
   "outputs": [
    {
     "ename": "IndexError",
     "evalue": "index 66 is out of bounds for axis 1 with size 60",
     "output_type": "error",
     "traceback": [
      "\u001b[0;31m---------------------------------------------------------------------------\u001b[0m",
      "\u001b[0;31mIndexError\u001b[0m                                Traceback (most recent call last)",
      "\u001b[0;32m<ipython-input-19-4b8cd5bc537e>\u001b[0m in \u001b[0;36m<module>\u001b[0;34m()\u001b[0m\n\u001b[1;32m     15\u001b[0m \u001b[0;34m\u001b[0m\u001b[0m\n\u001b[1;32m     16\u001b[0m \u001b[0;31m# View a list of the features and their importance scores\u001b[0m\u001b[0;34m\u001b[0m\u001b[0;34m\u001b[0m\u001b[0m\n\u001b[0;32m---> 17\u001b[0;31m \u001b[0mplot_coefficients\u001b[0m\u001b[0;34m(\u001b[0m\u001b[0msvm\u001b[0m\u001b[0;34m,\u001b[0m \u001b[0mtcp_complete\u001b[0m\u001b[0;34m.\u001b[0m\u001b[0mcolumns\u001b[0m\u001b[0;34m)\u001b[0m\u001b[0;34m\u001b[0m\u001b[0m\n\u001b[0m",
      "\u001b[0;32m<ipython-input-19-4b8cd5bc537e>\u001b[0m in \u001b[0;36mplot_coefficients\u001b[0;34m(classifier, feature_names, top_features)\u001b[0m\n\u001b[1;32m     11\u001b[0m  \u001b[0mplt\u001b[0m\u001b[0;34m.\u001b[0m\u001b[0mbar\u001b[0m\u001b[0;34m(\u001b[0m\u001b[0mnp\u001b[0m\u001b[0;34m.\u001b[0m\u001b[0marange\u001b[0m\u001b[0;34m(\u001b[0m\u001b[0;36m2\u001b[0m \u001b[0;34m*\u001b[0m \u001b[0mtop_features\u001b[0m\u001b[0;34m)\u001b[0m\u001b[0;34m,\u001b[0m \u001b[0mcoef\u001b[0m\u001b[0;34m[\u001b[0m\u001b[0mtop_coefficients\u001b[0m\u001b[0;34m]\u001b[0m\u001b[0;34m,\u001b[0m \u001b[0mcolor\u001b[0m\u001b[0;34m=\u001b[0m\u001b[0mcolors\u001b[0m\u001b[0;34m)\u001b[0m\u001b[0;34m\u001b[0m\u001b[0m\n\u001b[1;32m     12\u001b[0m  \u001b[0mfeature_names\u001b[0m \u001b[0;34m=\u001b[0m \u001b[0mnp\u001b[0m\u001b[0;34m.\u001b[0m\u001b[0marray\u001b[0m\u001b[0;34m(\u001b[0m\u001b[0mfeature_names\u001b[0m\u001b[0;34m)\u001b[0m\u001b[0;34m\u001b[0m\u001b[0m\n\u001b[0;32m---> 13\u001b[0;31m  \u001b[0mplt\u001b[0m\u001b[0;34m.\u001b[0m\u001b[0mxticks\u001b[0m\u001b[0;34m(\u001b[0m\u001b[0mnp\u001b[0m\u001b[0;34m.\u001b[0m\u001b[0marange\u001b[0m\u001b[0;34m(\u001b[0m\u001b[0;36m1\u001b[0m\u001b[0;34m,\u001b[0m \u001b[0;36m1\u001b[0m \u001b[0;34m+\u001b[0m \u001b[0;36m2\u001b[0m \u001b[0;34m*\u001b[0m \u001b[0mtop_features\u001b[0m\u001b[0;34m)\u001b[0m\u001b[0;34m,\u001b[0m \u001b[0mfeature_names\u001b[0m\u001b[0;34m[\u001b[0m\u001b[0mtop_coefficients\u001b[0m\u001b[0;34m]\u001b[0m\u001b[0;34m,\u001b[0m \u001b[0mrotation\u001b[0m\u001b[0;34m=\u001b[0m\u001b[0;36m60\u001b[0m\u001b[0;34m,\u001b[0m \u001b[0mha\u001b[0m\u001b[0;34m=\u001b[0m\u001b[0;34m'right'\u001b[0m\u001b[0;34m)\u001b[0m\u001b[0;34m\u001b[0m\u001b[0m\n\u001b[0m\u001b[1;32m     14\u001b[0m  \u001b[0mplt\u001b[0m\u001b[0;34m.\u001b[0m\u001b[0mshow\u001b[0m\u001b[0;34m(\u001b[0m\u001b[0;34m)\u001b[0m\u001b[0;34m\u001b[0m\u001b[0m\n\u001b[1;32m     15\u001b[0m \u001b[0;34m\u001b[0m\u001b[0m\n",
      "\u001b[0;31mIndexError\u001b[0m: index 66 is out of bounds for axis 1 with size 60"
     ]
    },
    {
     "data": {
      "image/png": "[encoded data removed]",
      "text/plain": [
       "<Figure size 1080x360 with 1 Axes>"
      ]
     },
     "metadata": {},
     "output_type": "display_data"
    }
   ],
   "source": [
    "import matplotlib.pyplot as plt\n",
    "\n",
    "def plot_coefficients(classifier, feature_names, top_features=20):\n",
    " coef = classifier.coef_.ravel()\n",
    " top_positive_coefficients = np.argsort(coef)[-top_features:]\n",
    " top_negative_coefficients = np.argsort(coef)[:top_features]\n",
    " top_coefficients = np.hstack([top_negative_coefficients, top_positive_coefficients])\n",
    " # create plot\n",
    " plt.figure(figsize=(15, 5))\n",
    " colors = ['red' if c < 0 else 'blue' for c in coef[top_coefficients]]\n",
    " plt.bar(np.arange(2 * top_features), coef[top_coefficients], color=colors)\n",
    " feature_names = np.array(feature_names)\n",
    " plt.xticks(np.arange(1, 1 + 2 * top_features), feature_names[top_coefficients], rotation=60, ha='right')\n",
    " plt.show()\n",
    "\n",
    "# View a list of the features and their importance scores\n",
    "plot_coefficients(svm, tcp_complete.columns)"
   ]
  },
  {
   "cell_type": "code",
   "execution_count": null,
   "metadata": {},
   "outputs": [],
   "source": []
  }
 ],
 "metadata": {
  "kernelspec": {
   "display_name": "Python 3",
   "language": "python",
   "name": "python3"
  },
  "language_info": {
   "codemirror_mode": {
    "name": "ipython",
    "version": 3
   },
   "file_extension": ".py",
   "mimetype": "text/x-python",
   "name": "python",
   "nbconvert_exporter": "python",
   "pygments_lexer": "ipython3",
   "version": "3.6.3"
  }
 },
 "nbformat": 4,
 "nbformat_minor": 2
}
