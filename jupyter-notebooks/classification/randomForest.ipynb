{
 "cells": [
  {
   "cell_type": "code",
   "execution_count": 1,
   "metadata": {},
   "outputs": [
    {
     "name": "stdout",
     "output_type": "stream",
     "text": [
      "-------------> Original Dataset -- Features: 132 Traffic Flows: 629886\n",
      "      #c_ip:1  c_port:2  c_pkts_all:3  c_rst_cnt:4  c_ack_cnt:5  \\\n",
      "0  1.1.22.130      2464             7            0            6   \n",
      "1   1.1.11.66      1744             7            0            6   \n",
      "2    1.1.90.2      6784             7            0            6   \n",
      "3    1.1.90.2     12544             5            0            4   \n",
      "4   1.1.2.210      1114             7            0            6   \n",
      "\n",
      "   c_ack_cnt_p:6  c_bytes_uniq:7  c_pkts_data:8  c_bytes_all:9  \\\n",
      "0              4              18              1             18   \n",
      "1              4              18              1             18   \n",
      "2              4              18              1             18   \n",
      "3              2             156              1            156   \n",
      "4              4              18              1             18   \n",
      "\n",
      "   c_pkts_retx:10   ...     c_appdataT:123  s_appdataT:124  c_appdataB:125  \\\n",
      "0               0   ...                0.0             0.0               0   \n",
      "1               0   ...                0.0             0.0               0   \n",
      "2               0   ...                0.0             0.0               0   \n",
      "3               0   ...                0.0             0.0               0   \n",
      "4               0   ...                0.0             0.0               0   \n",
      "\n",
      "   s_appdataB:126 fqdn:127  dns_rslv:128  req_tm:129  res_tm:130  \\\n",
      "0               0        -             -         0.0         0.0   \n",
      "1               0        -             -         0.0         0.0   \n",
      "2               0        -             -         0.0         0.0   \n",
      "3               0        -             -         0.0         0.0   \n",
      "4               0        -             -         0.0         0.0   \n",
      "\n",
      "   http_hostname:131  tag:132  \n",
      "0                  -        0  \n",
      "1                  -        0  \n",
      "2                  -        0  \n",
      "3        22.22.22.22        0  \n",
      "4                  -        0  \n",
      "\n",
      "[5 rows x 132 columns]\n",
      "-------------> Filtered Dataset -- Features: 60 Traffic Flows: 629886\n",
      "   c_pkts_all:3  c_rst_cnt:4  c_ack_cnt:5  c_ack_cnt_p:6  c_bytes_uniq:7  \\\n",
      "0             7            0            6              4              18   \n",
      "1             7            0            6              4              18   \n",
      "2             7            0            6              4              18   \n",
      "3             5            0            4              2             156   \n",
      "4             7            0            6              4              18   \n",
      "\n",
      "   c_pkts_data:8  c_bytes_all:9  c_pkts_retx:10  c_bytes_retx:11  \\\n",
      "0              1             18               0                0   \n",
      "1              1             18               0                0   \n",
      "2              1             18               0                0   \n",
      "3              1            156               0                0   \n",
      "4              1             18               0                0   \n",
      "\n",
      "   c_syn_cnt:13   ...    s_mss:93  s_mss_max:94  s_mss_min:95  s_win_max:96  \\\n",
      "0             1   ...        1460           921            12          7240   \n",
      "1             1   ...        1460           944            12          7240   \n",
      "2             1   ...        1460           921            12          7240   \n",
      "3             1   ...        1460             0             0          7240   \n",
      "4             1   ...        1460           921            12          7240   \n",
      "\n",
      "   s_cwin_max:99  s_cwin_min:100  s_cwin_ini:101  s_pkts_unk:106  tag:132  \\\n",
      "0            921              12              12               0        0   \n",
      "1            944              12              12               0        0   \n",
      "2            921              12              12               0        0   \n",
      "3              0               0               0               0        0   \n",
      "4            921              12              12               0        0   \n",
      "\n",
      "   is_vpn  \n",
      "0   False  \n",
      "1   False  \n",
      "2   False  \n",
      "3   False  \n",
      "4   False  \n",
      "\n",
      "[5 rows x 60 columns]\n",
      "        c_pkts_all:3    c_rst_cnt:4    c_ack_cnt:5  c_ack_cnt_p:6  \\\n",
      "count  629886.000000  629886.000000  629886.000000  629886.000000   \n",
      "mean       19.726184       0.027491      18.658587      10.077211   \n",
      "std       308.039088       0.163508     308.032681      53.168451   \n",
      "min         2.000000       0.000000       0.000000       0.000000   \n",
      "25%         7.000000       0.000000       6.000000       3.000000   \n",
      "50%         7.000000       0.000000       6.000000       4.000000   \n",
      "75%        13.000000       0.000000      11.000000       6.000000   \n",
      "max    121255.000000       1.000000  121253.000000   18068.000000   \n",
      "\n",
      "       c_bytes_uniq:7  c_pkts_data:8  c_bytes_all:9  c_pkts_retx:10  \\\n",
      "count    6.298860e+05  629886.000000   6.298860e+05   629886.000000   \n",
      "mean     7.832299e+03       7.491822   8.929328e+03        1.030540   \n",
      "std      4.408499e+05     265.671939   5.013908e+05       44.458806   \n",
      "min      0.000000e+00       0.000000   0.000000e+00        0.000000   \n",
      "25%      1.800000e+01       1.000000   1.800000e+01        0.000000   \n",
      "50%      1.560000e+02       1.000000   1.560000e+02        0.000000   \n",
      "75%      8.540000e+02       3.000000   1.079000e+03        0.000000   \n",
      "max      1.757773e+08  103185.000000   1.963511e+08    14447.000000   \n",
      "\n",
      "       c_bytes_retx:11   c_syn_cnt:13      ...        c_pkts_unrto:85  \\\n",
      "count     6.298860e+05  629886.000000      ...          629886.000000   \n",
      "mean      1.097029e+03       1.046616      ...               0.046353   \n",
      "std       6.338472e+04       0.264234      ...               2.125713   \n",
      "min       0.000000e+00       1.000000      ...               0.000000   \n",
      "25%       0.000000e+00       1.000000      ...               0.000000   \n",
      "50%       0.000000e+00       1.000000      ...               0.000000   \n",
      "75%       0.000000e+00       1.000000      ...               0.000000   \n",
      "max       2.057378e+07       5.000000      ...             299.000000   \n",
      "\n",
      "           s_mss:93   s_mss_max:94   s_mss_min:95  s_win_max:96  \\\n",
      "count  629886.00000  629886.000000  629886.000000  6.298860e+05   \n",
      "mean     1452.25745     838.599016     156.818256  4.007046e+05   \n",
      "std        23.52024     542.483450     339.313987  3.491751e+06   \n",
      "min         0.00000       0.000000       0.000000  3.072000e+03   \n",
      "25%      1460.00000     168.000000      12.000000  7.240000e+03   \n",
      "50%      1460.00000     944.000000      12.000000  7.240000e+03   \n",
      "75%      1460.00000    1418.000000      51.000000  2.816000e+04   \n",
      "max      1460.00000   11584.000000    1452.000000  2.684314e+08   \n",
      "\n",
      "       s_cwin_max:99  s_cwin_min:100  s_cwin_ini:101  s_pkts_unk:106  \\\n",
      "count   6.298860e+05   629886.000000   629886.000000   629886.000000   \n",
      "mean    3.171854e+03      230.931616     1008.677404        0.068825   \n",
      "std     7.717982e+03      457.305048     1775.327090        0.849782   \n",
      "min     0.000000e+00        0.000000        0.000000        0.000000   \n",
      "25%     1.680000e+02       12.000000       12.000000        0.000000   \n",
      "50%     9.440000e+02       12.000000       12.000000        0.000000   \n",
      "75%     2.185000e+03      157.000000     1418.000000        0.000000   \n",
      "max     1.140972e+06    13318.000000    28800.000000      257.000000   \n",
      "\n",
      "             tag:132  \n",
      "count  629886.000000  \n",
      "mean        0.261878  \n",
      "std         0.516994  \n",
      "min         0.000000  \n",
      "25%         0.000000  \n",
      "50%         0.000000  \n",
      "75%         0.000000  \n",
      "max         3.000000  \n",
      "\n",
      "[8 rows x 59 columns]\n"
     ]
    }
   ],
   "source": [
    "import numpy as np\n",
    "import matplotlib.pyplot as plt\n",
    "import pandas as pd\n",
    "from sklearn.ensemble import RandomForestClassifier\n",
    "\n",
    "# Load dataset as a data frame\n",
    "tcp_complete = pd.read_csv(\"../data/captura_prueba_MULTIPLESVPN_20180206_BP_12h/tagger_results/tcp_complete_tagged_ok\", delimiter=r\"\\s+\",low_memory=False)\n",
    "tcp_complete2 = pd.read_csv(\"../data/captura_prueba_MULTIPLESVPN_20180207_BP_12h/tagger_results/tcp_complete_tagged_ok\", delimiter=r\"\\s+\",low_memory=False)\n",
    "\n",
    "print(\"-------------> Original Dataset -- Features: \" + str(len(tcp_complete.columns))+ \" Traffic Flows: \" + str(len(tcp_complete.index)))\n",
    "print(tcp_complete.head())\n",
    "\n",
    "# Mark vpn flows\n",
    "vpn_ip = ['138.100.156.254','138.100.156.244','138.100.156.253']\n",
    "tcp_complete['is_vpn'] = tcp_complete['s_ip:15'].isin(vpn_ip)\n",
    "tcp_complete2['is_vpn'] = tcp_complete2['s_ip:15'].isin(vpn_ip)\n",
    "\n",
    "# Filter bad features\n",
    "bad_features = [1, 2, 12, 15, 16, 18, 29, 30, 38, 39, 40, 41, 43, 50, 51, 57, 58, 59, 60, 61, 62, 63, 64, 65, 66, 67, 68, 69, 70, 74, 75, 80, 81, 82, 84, 86, 87, 88, 89, 90, 91, 92, 97, 98, 102, 103, 104, 105, 107, 108, 109, 110, 111, 112, 113, 114, 115, 116, 117, 118, 119, 120, 121, 122, 123, 124, 125, 126, 127, 128, 129, 130, 131]\n",
    "bad_features = [index - 1 for index in bad_features]\n",
    "\n",
    "tcp_complete = tcp_complete.drop(tcp_complete.columns[bad_features], axis =1)\n",
    "tcp_complete2 = tcp_complete2.drop(tcp_complete2.columns[bad_features], axis =1)\n",
    "\n",
    "print(\"-------------> Filtered Dataset -- Features: \" + str(len(tcp_complete.columns))+ \" Traffic Flows: \" + str(len(tcp_complete.index)))\n",
    "print(tcp_complete.head())\n",
    "\n",
    "# Get basic statistics\n",
    "print(tcp_complete.describe())\n"
   ]
  },
  {
   "cell_type": "code",
   "execution_count": 2,
   "metadata": {},
   "outputs": [
    {
     "name": "stdout",
     "output_type": "stream",
     "text": [
      "Number of observations in the training data: 629886\n",
      "Number of observations in the test data: 629665\n"
     ]
    }
   ],
   "source": [
    "\n",
    "# Create training and test data\n",
    "if 'tcp_complete2' not in globals(): # divide the dataset; 75% training \n",
    "    tcp_complete['is_train'] = np.random.uniform(0, 1, len(tcp_complete)) <= .75\n",
    "    train, test = tcp_complete[tcp_complete['is_train']==True], tcp_complete[tcp_complete['is_train']==False]\n",
    "else: # use different captures for training and testing\n",
    "    train =  tcp_complete\n",
    "    test = tcp_complete2\n",
    "    \n",
    "# Show the number of observations for the test and training dataframes\n",
    "print('Number of observations in the training data:', len(train))\n",
    "print('Number of observations in the test data:',len(test))"
   ]
  },
  {
   "cell_type": "code",
   "execution_count": 3,
   "metadata": {},
   "outputs": [
    {
     "name": "stdout",
     "output_type": "stream",
     "text": [
      "Index(['c_pkts_all:3', 'c_rst_cnt:4', 'c_ack_cnt:5', 'c_ack_cnt_p:6',\n",
      "       'c_bytes_uniq:7', 'c_pkts_data:8', 'c_bytes_all:9', 'c_pkts_retx:10',\n",
      "       'c_bytes_retx:11', 'c_syn_cnt:13', 'c_fin_cnt:14', 's_pkts_all:17',\n",
      "       's_ack_cnt:19', 's_ack_cnt_p:20', 's_bytes_uniq:21', 's_pkts_data:22',\n",
      "       's_bytes_all:23', 's_pkts_retx:24', 's_bytes_retx:25', 's_pkts_ooo:26',\n",
      "       's_syn_cnt:27', 's_fin_cnt:28', 'durat:31', 'c_first:32', 's_first:33',\n",
      "       'c_last:34', 's_last:35', 'c_first_ack:36', 's_first_ack:37',\n",
      "       'con_t:42', 'http_t:44', 'c_rtt_avg:45', 'c_rtt_min:46', 'c_rtt_max:47',\n",
      "       'c_rtt_std:48', 'c_rtt_cnt:49', 's_rtt_avg:52', 's_rtt_min:53',\n",
      "       's_rtt_max:54', 's_rtt_std:55', 's_rtt_cnt:56', 'c_mss_max:71',\n",
      "       'c_mss_min:72', 'c_win_max:73', 'c_cwin_max:76', 'c_cwin_min:77',\n",
      "       'c_cwin_ini:78', 'c_pkts_rto:79', 'c_pkts_unk:83', 'c_pkts_unrto:85',\n",
      "       's_mss:93', 's_mss_max:94', 's_mss_min:95', 's_win_max:96',\n",
      "       's_cwin_max:99', 's_cwin_min:100', 's_cwin_ini:101'],\n",
      "      dtype='object')\n"
     ]
    },
    {
     "data": {
      "text/plain": [
       "57"
      ]
     },
     "execution_count": 3,
     "metadata": {},
     "output_type": "execute_result"
    }
   ],
   "source": [
    "# Create a list of the feature column's names\n",
    "features = tcp_complete.columns[:-3] # remove the tag from the features used to train\n",
    "\n",
    "# View features\n",
    "print(features)\n",
    "len(features)"
   ]
  },
  {
   "cell_type": "code",
   "execution_count": 4,
   "metadata": {},
   "outputs": [
    {
     "data": {
      "text/plain": [
       "RandomForestClassifier(bootstrap=True, class_weight=None, criterion='gini',\n",
       "            max_depth=None, max_features='auto', max_leaf_nodes=None,\n",
       "            min_impurity_decrease=0.0, min_impurity_split=None,\n",
       "            min_samples_leaf=1, min_samples_split=2,\n",
       "            min_weight_fraction_leaf=0.0, n_estimators=100, n_jobs=4,\n",
       "            oob_score=False, random_state=0, verbose=0, warm_start=False)"
      ]
     },
     "execution_count": 4,
     "metadata": {},
     "output_type": "execute_result"
    }
   ],
   "source": [
    "# Train The Random Forest Classifier\n",
    "clf = RandomForestClassifier(n_jobs=4, n_estimators=100,random_state=0)\n",
    "# Train the Classifier to take the training features and learn how they relate\n",
    "# to the training the tags\n",
    "clf.fit(train[features], train['tag:132'])"
   ]
  },
  {
   "cell_type": "code",
   "execution_count": 5,
   "metadata": {},
   "outputs": [
    {
     "name": "stdout",
     "output_type": "stream",
     "text": [
      "[0 0 0 ... 3 1 3]\n"
     ]
    }
   ],
   "source": [
    "# Apply the Classifier to the test data \n",
    "preds = clf.predict(test[features])\n",
    "print(preds)"
   ]
  },
  {
   "cell_type": "code",
   "execution_count": 7,
   "metadata": {},
   "outputs": [
    {
     "data": {
      "text/html": [
       "<div>\n",
       "<style scoped>\n",
       "    .dataframe tbody tr th:only-of-type {\n",
       "        vertical-align: middle;\n",
       "    }\n",
       "\n",
       "    .dataframe tbody tr th {\n",
       "        vertical-align: top;\n",
       "    }\n",
       "\n",
       "    .dataframe thead th {\n",
       "        text-align: right;\n",
       "    }\n",
       "</style>\n",
       "<table border=\"1\" class=\"dataframe\">\n",
       "  <thead>\n",
       "    <tr style=\"text-align: right;\">\n",
       "      <th>Predicted tags</th>\n",
       "      <th>0</th>\n",
       "      <th>1</th>\n",
       "      <th>2</th>\n",
       "      <th>3</th>\n",
       "    </tr>\n",
       "    <tr>\n",
       "      <th>Actual Tags</th>\n",
       "      <th></th>\n",
       "      <th></th>\n",
       "      <th></th>\n",
       "      <th></th>\n",
       "    </tr>\n",
       "  </thead>\n",
       "  <tbody>\n",
       "    <tr>\n",
       "      <th>0</th>\n",
       "      <td>485378</td>\n",
       "      <td>0</td>\n",
       "      <td>0</td>\n",
       "      <td>0</td>\n",
       "    </tr>\n",
       "    <tr>\n",
       "      <th>1</th>\n",
       "      <td>0</td>\n",
       "      <td>127204</td>\n",
       "      <td>39</td>\n",
       "      <td>2</td>\n",
       "    </tr>\n",
       "    <tr>\n",
       "      <th>2</th>\n",
       "      <td>0</td>\n",
       "      <td>139</td>\n",
       "      <td>13334</td>\n",
       "      <td>1</td>\n",
       "    </tr>\n",
       "    <tr>\n",
       "      <th>3</th>\n",
       "      <td>0</td>\n",
       "      <td>78</td>\n",
       "      <td>0</td>\n",
       "      <td>3490</td>\n",
       "    </tr>\n",
       "  </tbody>\n",
       "</table>\n",
       "</div>"
      ],
      "text/plain": [
       "Predicted tags       0       1      2     3\n",
       "Actual Tags                                \n",
       "0               485378       0      0     0\n",
       "1                    0  127204     39     2\n",
       "2                    0     139  13334     1\n",
       "3                    0      78      0  3490"
      ]
     },
     "execution_count": 7,
     "metadata": {},
     "output_type": "execute_result"
    }
   ],
   "source": [
    "# Create confusion matrix\n",
    "pd.crosstab(test['tag:132'], preds, rownames=['Actual Tags'], colnames=['Predicted tags'])"
   ]
  },
  {
   "cell_type": "code",
   "execution_count": 44,
   "metadata": {},
   "outputs": [
    {
     "name": "stdout",
     "output_type": "stream",
     "text": [
      "\t Mean accuracy score: 0.999589\n",
      "\t Mean Precision score: 0.999589\n",
      "\t Mean Recall score: 1.000\n",
      "\t Mean F1 score: 1.000\n",
      "\n"
     ]
    }
   ],
   "source": [
    "from sklearn.metrics import *\n",
    "\n",
    "print(\"\\t Mean accuracy score: %1.6f\" % accuracy_score(test['tag:132'], preds))\n",
    "print(\"\\t Mean Precision score: %1.6f\" % precision_score(test['tag:132'], preds,average='micro'))\n",
    "print(\"\\t Mean Recall score: %1.3f\" % recall_score(test['tag:132'], preds,average='micro'))\n",
    "print(\"\\t Mean F1 score: %1.3f\\n\" % f1_score(test['tag:132'], preds,average='micro'))"
   ]
  },
  {
   "cell_type": "code",
   "execution_count": 22,
   "metadata": {},
   "outputs": [
    {
     "data": {
      "text/plain": [
       "[('s_mss:93', 0.1350088622911473),\n",
       " ('c_first_ack:36', 0.11909735635912892),\n",
       " ('s_first_ack:37', 0.1069175161429251),\n",
       " ('c_rtt_avg:45', 0.06758305832585204),\n",
       " ('durat:31', 0.06705810244358582),\n",
       " ('c_rtt_min:46', 0.06139909916285534),\n",
       " ('c_rtt_max:47', 0.06119859385942124),\n",
       " ('c_cwin_ini:78', 0.04312226244819201),\n",
       " ('s_first:33', 0.03612061855421266),\n",
       " ('c_first:32', 0.03578948738638146),\n",
       " ('s_last:35', 0.032235362445835886),\n",
       " ('c_last:34', 0.023421602980978534),\n",
       " ('c_win_max:73', 0.022109484007108337),\n",
       " ('c_cwin_max:76', 0.022035518493914562),\n",
       " ('s_rtt_avg:52', 0.020382315318621776),\n",
       " ('s_win_max:96', 0.020211844614923223),\n",
       " ('s_rtt_min:53', 0.018780927651492526),\n",
       " ('c_rtt_std:48', 0.018430519655632117),\n",
       " ('c_mss_max:71', 0.008829967843158865),\n",
       " ('s_mss_max:94', 0.007625501589693427),\n",
       " ('s_mss_min:95', 0.006946708632976874),\n",
       " ('s_cwin_min:100', 0.005722156134398368),\n",
       " ('con_t:42', 0.00568562906248507),\n",
       " ('c_pkts_retx:10', 0.005029775389765031),\n",
       " ('c_bytes_uniq:7', 0.004688849897739658),\n",
       " ('s_bytes_uniq:21', 0.004301903492109017),\n",
       " ('s_pkts_retx:24', 0.0038832550709050322),\n",
       " ('c_mss_min:72', 0.0035949436371165437),\n",
       " ('s_bytes_all:23', 0.0035305767482166706),\n",
       " ('s_cwin_ini:101', 0.002813625120900346),\n",
       " ('c_cwin_min:77', 0.0027783678735918155),\n",
       " ('s_rtt_cnt:56', 0.0022550610441401126),\n",
       " ('s_ack_cnt_p:20', 0.002232895450291617),\n",
       " ('c_bytes_all:9', 0.0020038087042469448),\n",
       " ('s_pkts_all:17', 0.0017155337441183839),\n",
       " ('s_pkts_data:22', 0.0017033399827610137),\n",
       " ('s_ack_cnt:19', 0.0016491779600408577),\n",
       " ('c_ack_cnt_p:6', 0.0013205953882589575),\n",
       " ('c_fin_cnt:14', 0.0012896787102329016),\n",
       " ('http_t:44', 0.001243552253151206),\n",
       " ('c_pkts_all:3', 0.0012279033765216763),\n",
       " ('c_rtt_cnt:49', 0.0011480763657477093),\n",
       " ('s_cwin_max:99', 0.0010645282804072995),\n",
       " ('c_pkts_rto:79', 0.0009117188750092805),\n",
       " ('s_syn_cnt:27', 0.000674657269475092),\n",
       " ('c_ack_cnt:5', 0.0006118143431188112),\n",
       " ('c_pkts_data:8', 0.0005605197992730952),\n",
       " ('s_rtt_max:54', 0.0004990065050096379),\n",
       " ('c_syn_cnt:13', 0.00047077484154823705),\n",
       " ('s_rtt_std:55', 0.00045657035545074783),\n",
       " ('c_rst_cnt:4', 0.00021603862177339814),\n",
       " ('c_bytes_retx:11', 0.00016375045773933797),\n",
       " ('s_bytes_retx:25', 8.739141635860692e-05),\n",
       " ('s_fin_cnt:28', 6.282285663792863e-05),\n",
       " ('c_pkts_unrto:85', 6.067401900773889e-05),\n",
       " ('c_pkts_unk:83', 3.427833787462528e-05),\n",
       " ('s_pkts_ooo:26', 2.0384065392046774e-06)]"
      ]
     },
     "execution_count": 22,
     "metadata": {},
     "output_type": "execute_result"
    }
   ],
   "source": [
    "# View a list of the features and their importance scores\n",
    "sorted(list(zip(train[features], clf.feature_importances_)), key=lambda x: x[1], reverse=True)"
   ]
  },
  {
   "cell_type": "code",
   "execution_count": 43,
   "metadata": {},
   "outputs": [
    {
     "name": "stdout",
     "output_type": "stream",
     "text": [
      "\t Evaluation Metrics  - VPN - Flows: 22\n",
      "\t Mean Accuracy score: 0.954545\n",
      "\t Mean Precision score: 0.954545\n",
      "\t Mean Recall score: 0.955\n",
      "\t Mean F1 score: 0.955\n",
      "\n",
      "\t Evaluation Metrics  - NO VPN - Flows: 629643\n",
      "\t Mean Accuracy score: 0.999590\n",
      "\t Mean Precision score: 0.999590\n",
      "\t Mean Recall score: 1.000\n",
      "\t Mean F1 score: 1.000\n",
      "\n"
     ]
    }
   ],
   "source": [
    "# Compute the evaluation metrics for VPN and NO-VPN \n",
    "import warnings\n",
    "\n",
    "\n",
    "test_vpn, test_novpn = tcp_complete2[tcp_complete2['is_vpn']==True], tcp_complete2[tcp_complete2['is_vpn']==False]\n",
    "\n",
    "\n",
    "print(\"\\t Evaluation Metrics  - VPN - Flows: \" + str(len(test_vpn['tag:132'])) )\n",
    "print(\"\\t Mean Accuracy score: %1.6f\" % accuracy_score(test_vpn['tag:132'], preds[tcp_complete2['is_vpn']==True]))\n",
    "print(\"\\t Mean Precision score: %1.6f\" % precision_score(test_vpn['tag:132'], preds[tcp_complete2['is_vpn']==True],average='micro'))\n",
    "print(\"\\t Mean Recall score: %1.3f\" % recall_score(test_vpn['tag:132'], preds[tcp_complete2['is_vpn']==True],average='micro'))\n",
    "print(\"\\t Mean F1 score: %1.3f\\n\" % f1_score(test_vpn['tag:132'], preds[tcp_complete2['is_vpn']==True],average='micro'))\n",
    "      \n",
    "print(\"\\t Evaluation Metrics  - NO VPN - Flows: \" + str(len(test_novpn['tag:132'])) )\n",
    "\n",
    "print(\"\\t Mean Accuracy score: %1.6f\" % accuracy_score(test_novpn['tag:132'], preds[tcp_complete2['is_vpn']==False]))\n",
    "print(\"\\t Mean Precision score: %1.6f\" % precision_score(test_novpn['tag:132'], preds[tcp_complete2['is_vpn']==False],average='micro'))\n",
    "print(\"\\t Mean Recall score: %1.3f\" % recall_score(test_novpn['tag:132'], preds[tcp_complete2['is_vpn']==False],average='micro'))\n",
    "print(\"\\t Mean F1 score: %1.3f\\n\" % f1_score(test_novpn['tag:132'], preds[tcp_complete2['is_vpn']==False],average='micro'))"
   ]
  },
  {
   "cell_type": "code",
   "execution_count": 41,
   "metadata": {},
   "outputs": [
    {
     "data": {
      "text/html": [
       "<div>\n",
       "<style scoped>\n",
       "    .dataframe tbody tr th:only-of-type {\n",
       "        vertical-align: middle;\n",
       "    }\n",
       "\n",
       "    .dataframe tbody tr th {\n",
       "        vertical-align: top;\n",
       "    }\n",
       "\n",
       "    .dataframe thead th {\n",
       "        text-align: right;\n",
       "    }\n",
       "</style>\n",
       "<table border=\"1\" class=\"dataframe\">\n",
       "  <thead>\n",
       "    <tr style=\"text-align: right;\">\n",
       "      <th>Predicted tags</th>\n",
       "      <th>3</th>\n",
       "    </tr>\n",
       "    <tr>\n",
       "      <th>Actual Tags</th>\n",
       "      <th></th>\n",
       "    </tr>\n",
       "  </thead>\n",
       "  <tbody>\n",
       "    <tr>\n",
       "      <th>2</th>\n",
       "      <td>1</td>\n",
       "    </tr>\n",
       "    <tr>\n",
       "      <th>3</th>\n",
       "      <td>21</td>\n",
       "    </tr>\n",
       "  </tbody>\n",
       "</table>\n",
       "</div>"
      ],
      "text/plain": [
       "Predicted tags   3\n",
       "Actual Tags       \n",
       "2                1\n",
       "3               21"
      ]
     },
     "execution_count": 41,
     "metadata": {},
     "output_type": "execute_result"
    }
   ],
   "source": [
    "# Create confusion matrix for VPN only\n",
    "\n",
    "pd.crosstab(test_vpn['tag:132'], preds[tcp_complete2['is_vpn']==True], rownames=['Actual Tags'], colnames=['Predicted tags'])\n"
   ]
  },
  {
   "cell_type": "code",
   "execution_count": 42,
   "metadata": {},
   "outputs": [
    {
     "data": {
      "text/html": [
       "<div>\n",
       "<style scoped>\n",
       "    .dataframe tbody tr th:only-of-type {\n",
       "        vertical-align: middle;\n",
       "    }\n",
       "\n",
       "    .dataframe tbody tr th {\n",
       "        vertical-align: top;\n",
       "    }\n",
       "\n",
       "    .dataframe thead th {\n",
       "        text-align: right;\n",
       "    }\n",
       "</style>\n",
       "<table border=\"1\" class=\"dataframe\">\n",
       "  <thead>\n",
       "    <tr style=\"text-align: right;\">\n",
       "      <th>Predicted tags</th>\n",
       "      <th>0</th>\n",
       "      <th>1</th>\n",
       "      <th>2</th>\n",
       "      <th>3</th>\n",
       "    </tr>\n",
       "    <tr>\n",
       "      <th>Actual Tags</th>\n",
       "      <th></th>\n",
       "      <th></th>\n",
       "      <th></th>\n",
       "      <th></th>\n",
       "    </tr>\n",
       "  </thead>\n",
       "  <tbody>\n",
       "    <tr>\n",
       "      <th>0</th>\n",
       "      <td>485378</td>\n",
       "      <td>0</td>\n",
       "      <td>0</td>\n",
       "      <td>0</td>\n",
       "    </tr>\n",
       "    <tr>\n",
       "      <th>1</th>\n",
       "      <td>0</td>\n",
       "      <td>127204</td>\n",
       "      <td>39</td>\n",
       "      <td>2</td>\n",
       "    </tr>\n",
       "    <tr>\n",
       "      <th>2</th>\n",
       "      <td>0</td>\n",
       "      <td>139</td>\n",
       "      <td>13334</td>\n",
       "      <td>0</td>\n",
       "    </tr>\n",
       "    <tr>\n",
       "      <th>3</th>\n",
       "      <td>0</td>\n",
       "      <td>78</td>\n",
       "      <td>0</td>\n",
       "      <td>3469</td>\n",
       "    </tr>\n",
       "  </tbody>\n",
       "</table>\n",
       "</div>"
      ],
      "text/plain": [
       "Predicted tags       0       1      2     3\n",
       "Actual Tags                                \n",
       "0               485378       0      0     0\n",
       "1                    0  127204     39     2\n",
       "2                    0     139  13334     0\n",
       "3                    0      78      0  3469"
      ]
     },
     "execution_count": 42,
     "metadata": {},
     "output_type": "execute_result"
    }
   ],
   "source": [
    "# Create confusion matrix for NO VPN only\n",
    "\n",
    "pd.crosstab(test_novpn['tag:132'], preds[tcp_complete2['is_vpn']==False], rownames=['Actual Tags'], colnames=['Predicted tags'])"
   ]
  },
  {
   "cell_type": "code",
   "execution_count": null,
   "metadata": {},
   "outputs": [],
   "source": []
  }
 ],
 "metadata": {
  "kernelspec": {
   "display_name": "Python 3",
   "language": "python",
   "name": "python3"
  },
  "language_info": {
   "codemirror_mode": {
    "name": "ipython",
    "version": 3
   },
   "file_extension": ".py",
   "mimetype": "text/x-python",
   "name": "python",
   "nbconvert_exporter": "python",
   "pygments_lexer": "ipython3",
   "version": "3.6.3"
  }
 },
 "nbformat": 4,
 "nbformat_minor": 1
}
